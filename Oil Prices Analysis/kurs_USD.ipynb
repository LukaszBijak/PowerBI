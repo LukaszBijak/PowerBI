{
 "cells": [
  {
   "cell_type": "code",
   "execution_count": 120,
   "id": "d1470cfb-ea7c-4e1d-b5ad-4f826ca83e8f",
   "metadata": {},
   "outputs": [],
   "source": [
    "import pandas as pd\n",
    "import requests\n",
    "import json"
   ]
  },
  {
   "cell_type": "code",
   "execution_count": 161,
   "id": "4d114884-e840-49f0-ad01-9dc19851a520",
   "metadata": {},
   "outputs": [],
   "source": [
    "kurs = pd.DataFrame()"
   ]
  },
  {
   "cell_type": "code",
   "execution_count": 169,
   "id": "b8d3452f-7b37-4010-a399-2ea34f34891f",
   "metadata": {},
   "outputs": [],
   "source": [
    "# Funkcja do pobierania kursu walut z API NBP:\n",
    "\n",
    "def pobierz_kurs(waluta, rok_poczatkowy, ilosc_lat):\n",
    "    global kurs\n",
    "    for i in range(0,ilosc_lat):\n",
    "        body = requests.get(f'http://api.nbp.pl/api/exchangerates/rates/a/{waluta}/{rok_poczatkowy}-01-01/{rok_poczatkowy}-12-31/')\n",
    "        response = body.json()\n",
    "        kurs = kurs.append(response['rates'])\n",
    "        rok_poczatkowy += 1 "
   ]
  },
  {
   "cell_type": "code",
   "execution_count": 170,
   "id": "843c9b2e-cfd8-4449-ad5c-1ffa4c4969d9",
   "metadata": {},
   "outputs": [
    {
     "name": "stdin",
     "output_type": "stream",
     "text": [
      "Podaj walutę:  gbp\n",
      "Podaj rok początkowy:  2018\n",
      "Ile lat:  4\n"
     ]
    }
   ],
   "source": [
    "# Pobieram kurs:\n",
    "\n",
    "waluta = input('Podaj walutę: ')\n",
    "rok_pocz = int(input('Podaj rok początkowy: '))\n",
    "il_lat = int(input('Ile lat: '))\n",
    "pobierz_kurs(waluta, rok_pocz, il_lat)"
   ]
  },
  {
   "cell_type": "code",
   "execution_count": 171,
   "id": "1e7dea26-6fd3-4979-8560-1ce0af602555",
   "metadata": {},
   "outputs": [],
   "source": [
    "# Formatuję tabelę\n",
    "\n",
    "kurs = kurs[['effectiveDate','mid']]\n",
    "kurs = kurs.rename(columns={'effectiveDate':'Data', 'mid':f'Kurs {waluta}'})"
   ]
  },
  {
   "cell_type": "code",
   "execution_count": 172,
   "id": "2c00638e-9cd9-4191-92bf-1782759c9c8a",
   "metadata": {},
   "outputs": [],
   "source": [
    "# Zapisuję dane do pliku CSV \n",
    "\n",
    "kurs.to_csv(f'Kurs_{waluta}.csv', index=False)"
   ]
  },
  {
   "cell_type": "code",
   "execution_count": 164,
   "id": "ad7b31a5-2b3b-44a0-b5e4-7d1359132d80",
   "metadata": {},
   "outputs": [],
   "source": [
    "#tymczasowe pole do pobrania danych za 2022r\n",
    "body = requests.get(f'http://api.nbp.pl/api/exchangerates/rates/a/usd/2022-01-01/2022-12-10/')\n",
    "response = body.json()\n",
    "kurs = kurs.append(response['rates'])\n"
   ]
  },
  {
   "cell_type": "code",
   "execution_count": 173,
   "id": "c8bd6068-1ba9-4e2b-9830-5de6ac0113a4",
   "metadata": {},
   "outputs": [
    {
     "data": {
      "text/html": [
       "<div>\n",
       "<style scoped>\n",
       "    .dataframe tbody tr th:only-of-type {\n",
       "        vertical-align: middle;\n",
       "    }\n",
       "\n",
       "    .dataframe tbody tr th {\n",
       "        vertical-align: top;\n",
       "    }\n",
       "\n",
       "    .dataframe thead th {\n",
       "        text-align: right;\n",
       "    }\n",
       "</style>\n",
       "<table border=\"1\" class=\"dataframe\">\n",
       "  <thead>\n",
       "    <tr style=\"text-align: right;\">\n",
       "      <th></th>\n",
       "      <th>Data</th>\n",
       "      <th>Kurs gbp</th>\n",
       "    </tr>\n",
       "  </thead>\n",
       "  <tbody>\n",
       "    <tr>\n",
       "      <th>0</th>\n",
       "      <td>NaN</td>\n",
       "      <td>NaN</td>\n",
       "    </tr>\n",
       "    <tr>\n",
       "      <th>1</th>\n",
       "      <td>NaN</td>\n",
       "      <td>NaN</td>\n",
       "    </tr>\n",
       "    <tr>\n",
       "      <th>2</th>\n",
       "      <td>NaN</td>\n",
       "      <td>NaN</td>\n",
       "    </tr>\n",
       "    <tr>\n",
       "      <th>3</th>\n",
       "      <td>NaN</td>\n",
       "      <td>NaN</td>\n",
       "    </tr>\n",
       "    <tr>\n",
       "      <th>4</th>\n",
       "      <td>NaN</td>\n",
       "      <td>NaN</td>\n",
       "    </tr>\n",
       "    <tr>\n",
       "      <th>...</th>\n",
       "      <td>...</td>\n",
       "      <td>...</td>\n",
       "    </tr>\n",
       "    <tr>\n",
       "      <th>249</th>\n",
       "      <td>2021-12-27</td>\n",
       "      <td>5.4805</td>\n",
       "    </tr>\n",
       "    <tr>\n",
       "      <th>250</th>\n",
       "      <td>2021-12-28</td>\n",
       "      <td>5.4623</td>\n",
       "    </tr>\n",
       "    <tr>\n",
       "      <th>251</th>\n",
       "      <td>2021-12-29</td>\n",
       "      <td>5.4693</td>\n",
       "    </tr>\n",
       "    <tr>\n",
       "      <th>252</th>\n",
       "      <td>2021-12-30</td>\n",
       "      <td>5.4680</td>\n",
       "    </tr>\n",
       "    <tr>\n",
       "      <th>253</th>\n",
       "      <td>2021-12-31</td>\n",
       "      <td>5.4846</td>\n",
       "    </tr>\n",
       "  </tbody>\n",
       "</table>\n",
       "<p>2262 rows × 2 columns</p>\n",
       "</div>"
      ],
      "text/plain": [
       "           Data  Kurs gbp\n",
       "0           NaN       NaN\n",
       "1           NaN       NaN\n",
       "2           NaN       NaN\n",
       "3           NaN       NaN\n",
       "4           NaN       NaN\n",
       "..          ...       ...\n",
       "249  2021-12-27    5.4805\n",
       "250  2021-12-28    5.4623\n",
       "251  2021-12-29    5.4693\n",
       "252  2021-12-30    5.4680\n",
       "253  2021-12-31    5.4846\n",
       "\n",
       "[2262 rows x 2 columns]"
      ]
     },
     "execution_count": 173,
     "metadata": {},
     "output_type": "execute_result"
    }
   ],
   "source": [
    "kurs"
   ]
  }
 ],
 "metadata": {
  "kernelspec": {
   "display_name": "Python 3 (ipykernel)",
   "language": "python",
   "name": "python3"
  },
  "language_info": {
   "codemirror_mode": {
    "name": "ipython",
    "version": 3
   },
   "file_extension": ".py",
   "mimetype": "text/x-python",
   "name": "python",
   "nbconvert_exporter": "python",
   "pygments_lexer": "ipython3",
   "version": "3.9.7"
  }
 },
 "nbformat": 4,
 "nbformat_minor": 5
}
