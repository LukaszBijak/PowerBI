{
 "cells": [
  {
   "cell_type": "code",
   "execution_count": null,
   "id": "d1470cfb-ea7c-4e1d-b5ad-4f826ca83e8f",
   "metadata": {},
   "outputs": [],
   "source": [
    "import pandas as pd\n",
    "import requests\n",
    "import json"
   ]
  },
  {
   "cell_type": "code",
   "execution_count": null,
   "id": "4d114884-e840-49f0-ad01-9dc19851a520",
   "metadata": {},
   "outputs": [],
   "source": [
    "body = requests.get(\"http://api.nbp.pl/api/exchangerates/rates/a/usd/2018-01-01/2018-01-31/\")\n",
    "response = body.json()\n",
    "df = pd.DataFrame(response['rates'])\n",
    "df = df[['effectiveDate','mid']]\n",
    "df = df.rename(columns={'effectiveDate':'Data', 'mid':'Kurs USD'})\n",
    "df.head()"
   ]
  },
  {
   "cell_type": "code",
   "execution_count": null,
   "id": "843c9b2e-cfd8-4449-ad5c-1ffa4c4969d9",
   "metadata": {},
   "outputs": [],
   "source": [
    "df.to_csv('Kurs_USD.csv', index=False)"
   ]
  }
 ],
 "metadata": {
  "kernelspec": {
   "display_name": "Python 3 (ipykernel)",
   "language": "python",
   "name": "python3"
  },
  "language_info": {
   "codemirror_mode": {
    "name": "ipython",
    "version": 3
   },
   "file_extension": ".py",
   "mimetype": "text/x-python",
   "name": "python",
   "nbconvert_exporter": "python",
   "pygments_lexer": "ipython3",
   "version": "3.9.7"
  }
 },
 "nbformat": 4,
 "nbformat_minor": 5
}
